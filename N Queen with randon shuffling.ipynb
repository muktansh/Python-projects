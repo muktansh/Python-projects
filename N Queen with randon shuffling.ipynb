{
 "cells": [
  {
   "cell_type": "code",
   "execution_count": 2,
   "metadata": {},
   "outputs": [],
   "source": [
    "import random\n",
    "\n",
    "def check_goal(A):\n",
    "    for x in range(len(A)):\n",
    "        for y in range(x+1,len(A)):\n",
    "            if(A[x] == A[y]):\n",
    "                return(False)\n",
    "            \n",
    "            if(abs(A[x]-A[y]) == abs(x-y)):\n",
    "                \n",
    "                return(False)\n",
    "    return(True)\n",
    "\n",
    "\n",
    "\n",
    "def nqueen(n):\n",
    "    i = [x for x in range(1,n+1)]\n",
    "    visited = []\n",
    "    visited.append([x for x in i])\n",
    "    \n",
    "    iterations = 40320\n",
    "    for c in range(iterations):\n",
    "        random.shuffle(i)\n",
    "        \n",
    "        if(i not in visited):\n",
    "            visited.append([x for x in i])\n",
    "            if(check_goal(i)):\n",
    "                return(i)\n",
    "            \n",
    "    return([0,0,0])"
   ]
  },
  {
   "cell_type": "code",
   "execution_count": 3,
   "metadata": {},
   "outputs": [],
   "source": [
    "v = nqueen(8)"
   ]
  },
  {
   "cell_type": "code",
   "execution_count": 4,
   "metadata": {},
   "outputs": [
    {
     "data": {
      "text/plain": [
       "[6, 3, 1, 8, 5, 2, 4, 7]"
      ]
     },
     "execution_count": 4,
     "metadata": {},
     "output_type": "execute_result"
    }
   ],
   "source": [
    "v"
   ]
  },
  {
   "cell_type": "code",
   "execution_count": 5,
   "metadata": {},
   "outputs": [
    {
     "name": "stdout",
     "output_type": "stream",
     "text": [
      "[6, 2, 7, 1, 4, 8, 5, 3]\n",
      "[2, 8, 6, 1, 3, 5, 7, 4]\n",
      "[6, 4, 2, 8, 5, 7, 1, 3]\n",
      "[4, 6, 8, 2, 7, 1, 3, 5]\n",
      "[5, 2, 4, 6, 8, 3, 1, 7]\n",
      "[5, 3, 1, 6, 8, 2, 4, 7]\n",
      "[7, 1, 3, 8, 6, 4, 2, 5]\n",
      "[3, 6, 8, 1, 4, 7, 5, 2]\n",
      "[4, 6, 1, 5, 2, 8, 3, 7]\n",
      "[7, 5, 3, 1, 6, 8, 2, 4]\n"
     ]
    }
   ],
   "source": [
    "for i in range(10):\n",
    "    print(nqueen(8))"
   ]
  },
  {
   "cell_type": "code",
   "execution_count": null,
   "metadata": {},
   "outputs": [],
   "source": []
  }
 ],
 "metadata": {
  "kernelspec": {
   "display_name": "Python 3 (ipykernel)",
   "language": "python",
   "name": "python3"
  },
  "language_info": {
   "codemirror_mode": {
    "name": "ipython",
    "version": 3
   },
   "file_extension": ".py",
   "mimetype": "text/x-python",
   "name": "python",
   "nbconvert_exporter": "python",
   "pygments_lexer": "ipython3",
   "version": "3.9.13"
  }
 },
 "nbformat": 4,
 "nbformat_minor": 4
}
